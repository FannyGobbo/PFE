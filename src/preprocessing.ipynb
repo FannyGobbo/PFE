{
 "cells": [
  {
   "cell_type": "markdown",
   "metadata": {},
   "source": [
    "# Preprocessing\n",
    "\n",
    "- load audio\n",
    "- put them into arrays\n",
    "- perform cqt transform\n",
    "- "
   ]
  },
  {
   "cell_type": "code",
   "execution_count": null,
   "metadata": {},
   "outputs": [],
   "source": [
    "import os\n",
    "import librosa\n",
    "import pandas as pd\n",
    "import numpy as np\n",
    "\n",
    "train_audio_dir = 'datasets/musicnet/musicnet/train_data'\n",
    "train_labels_dir = 'datasets/musicnet/musicnet/train_labels'\n",
    "\n",
    "train_audio_data = {}\n",
    "train_labels_data = {}\n",
    "\n",
    "LIMIT = 10\n",
    "count = 0\n",
    "for filename in os.listdir(train_audio_dir):\n",
    "    if count >= LIMIT:\n",
    "        break\n",
    "    else:\n",
    "        filepath = os.path.join(train_audio_dir, filename)\n",
    "        audio_data, sr = librosa.load(filepath, sr=None)\n",
    "        train_audio_data[filename] = {'audio': audio_data, 'sample_rate': sr}\n",
    "        count +=1\n",
    "\n",
    "count = 0\n",
    "for filename in os.listdir(train_labels_dir):\n",
    "    if count >= LIMIT:\n",
    "        break\n",
    "    else:\n",
    "        filepath = os.path.join(train_labels_dir, filename)\n",
    "        train_labels_data[filename] = pd.read_csv(filepath)\n",
    "        count+=1"
   ]
  },
  {
   "cell_type": "code",
   "execution_count": null,
   "metadata": {},
   "outputs": [],
   "source": [
    "print(train_audio_data)\n",
    "print(train_labels_data)"
   ]
  },
  {
   "cell_type": "code",
   "execution_count": null,
   "metadata": {},
   "outputs": [],
   "source": [
    "train_audio_array = []\n",
    "train_label_array = []\n",
    "\n",
    "for filename, data in train_audio_data.items():\n",
    "    audio_array = data['audio']\n",
    "    train_audio_array.append(audio_array)\n",
    "\n",
    "for filename, data in train_labels_data.items():\n",
    "        label_array = data.values\n",
    "        train_label_array.append(label_array)\n",
    "\n",
    "\n",
    "print(train_audio_array)\n",
    "print(train_label_array)"
   ]
  },
  {
   "cell_type": "code",
   "execution_count": null,
   "metadata": {},
   "outputs": [],
   "source": [
    "import librosa\n",
    "\n",
    "train_cqt_array = [librosa.cqt(audio) for audio in train_audio_array]"
   ]
  },
  {
   "cell_type": "code",
   "execution_count": null,
   "metadata": {},
   "outputs": [],
   "source": [
    "import matplotlib.pyplot as plt\n",
    "\n",
    "for i in range(2):\n",
    "    cqt_array = train_cqt_array[i]\n",
    "    plt.figure(figsize=(10, 4))\n",
    "    librosa.display.specshow(librosa.amplitude_to_db(cqt_array, ref=np.max), sr=sr, x_axis='time', y_axis='cqt_note')\n",
    "    plt.colorbar(format='%+2.0f dB')\n",
    "    plt.title('Constant-Q Transform (CQT) - Audio {}'.format(i+1))\n",
    "    plt.tight_layout()\n",
    "    plt.show()"
   ]
  },
  {
   "cell_type": "code",
   "execution_count": 33,
   "metadata": {},
   "outputs": [
    {
     "name": "stdout",
     "output_type": "stream",
     "text": [
      "(10, 84, 79633)\n"
     ]
    }
   ],
   "source": [
    "# Padding is essential to have uniform train array to feed to neural net\n",
    "# Find the maximum length among all CQT arrays\n",
    "max_length = max(len(cqt_array[0]) for cqt_array in train_cqt_array)\n",
    "\n",
    "# Pad all CQT arrays to match the maximum length\n",
    "train_padded_cqt_arrays = []\n",
    "for cqt_array in train_cqt_array:\n",
    "    padded_cqt_array = np.pad(cqt_array, ((0, 0), (0, max_length - len(cqt_array[0]))), mode='constant')\n",
    "    train_padded_cqt_arrays.append(padded_cqt_array)\n",
    "\n",
    "# convert to numpy to check shape, if the array is not uniform it won't convert\n",
    "train_padded_cqt_arrays = np.array(train_padded_cqt_arrays)\n",
    "print(train_padded_cqt_arrays.shape) # number of audio files, number of frequency bin/range, number of timesteps"
   ]
  }
 ],
 "metadata": {
  "kernelspec": {
   "display_name": "Python 3",
   "language": "python",
   "name": "python3"
  },
  "language_info": {
   "codemirror_mode": {
    "name": "ipython",
    "version": 3
   },
   "file_extension": ".py",
   "mimetype": "text/x-python",
   "name": "python",
   "nbconvert_exporter": "python",
   "pygments_lexer": "ipython3",
   "version": "3.11.5"
  }
 },
 "nbformat": 4,
 "nbformat_minor": 2
}
